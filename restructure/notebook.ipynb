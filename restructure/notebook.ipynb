#+BEGIN_SRC ein-python :session localhost
import
#+END_SRC
